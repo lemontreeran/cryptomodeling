{
 "cells": [
  {
   "cell_type": "markdown",
   "metadata": {},
   "source": [
    "# Crypto Modeling based Marginal Cost of Production "
   ]
  },
  {
   "cell_type": "markdown",
   "metadata": {},
   "source": [
    "## 1. Introduction"
   ]
  },
  {
   "cell_type": "markdown",
   "metadata": {},
   "source": [
    "#### According to Hays, the (marginal) cost of production per day, Eday per unit of mining power can be expressed as follows:"
   ]
  },
  {
   "cell_type": "markdown",
   "metadata": {},
   "source": [
    "$$E_{day} = (\\rho / 1000) ($ / kWh \\cdot W_{per}GH/s \\cdot hr_{day})$$"
   ]
  },
  {
   "cell_type": "markdown",
   "metadata": {},
   "source": [
    "- $\\rho$ is the hashpower (computational power) employed by a miner.\n",
    "- $/kWh is the dollar price per kilowatt hour.\n",
    "- W per GH/s is the energy efficiency of the hardware.\n",
    "- hrsday is the number of hours in a day."
   ]
  },
  {
   "cell_type": "markdown",
   "metadata": {},
   "source": [
    "#### The following is to calclulate the daily product as miner:"
   ]
  },
  {
   "cell_type": "markdown",
   "metadata": {},
   "source": [
    "$$BTC/day* = \\left(\\frac{ \\beta \\rho \\cdot sec_{hr} }{ \\delta \\cdot 2^{32} }\\right) hr_{day}$$"
   ]
  },
  {
   "cell_type": "markdown",
   "metadata": {},
   "source": [
    "- BTC/day* is the expected level of daily Bitcoin production when mining Bitcoin.\n",
    "- β is the block reward (expressed in units of BTC/block),\n",
    "- ρ is the hashing power employed by a miner.\n",
    "- δ is the difficulty (expressed in units of GH/block).\n",
    "- sechr is the number of seconds in an hour.\n",
    "- hrday is the number of hours in a day."
   ]
  },
  {
   "cell_type": "markdown",
   "metadata": {},
   "source": [
    "#### According to the marginal cost thoery, the ratio of (cost/day) divided by (BTC/day) decides P* as a logical lower bound for the market price where miner would operate at the marginal loss and leave the market."
   ]
  },
  {
   "cell_type": "markdown",
   "metadata": {},
   "source": [
    "$$P* = (\\frac{E_{day}}{BTC/day*})$$"
   ]
  },
  {
   "cell_type": "markdown",
   "metadata": {},
   "source": [
    "## 2. BTC Modeling"
   ]
  },
  {
   "cell_type": "markdown",
   "metadata": {},
   "source": [
    "#### Based on Hays' model, we will apply it to BTC valuation modeling."
   ]
  },
  {
   "cell_type": "markdown",
   "metadata": {},
   "source": [
    "- Bitcoin Energy Consumption Index\n",
    "  https://digiconomist.net/bitcoin-energy-consumption\n",
    "- Bitcoin hashrate\n",
    "  https://www.blockchain.com/explorer?currency=BTC&stat=hashrate\n",
    "- Bitcoin difficulty\n",
    "  https://www.blockchain.com/explorer?currency=BTC&stat=difficulty"
   ]
  },
  {
   "cell_type": "markdown",
   "metadata": {},
   "source": [
    "### 2.1 Importing Necessary Libraries"
   ]
  },
  {
   "cell_type": "code",
   "execution_count": 13,
   "metadata": {},
   "outputs": [],
   "source": [
    "import pandas as pd\n",
    "import matplotlib.pyplot as plt\n",
    "# import numpy as np\n",
    "# from scipy.interpolate import  interp1d"
   ]
  },
  {
   "cell_type": "code",
   "execution_count": 14,
   "metadata": {},
   "outputs": [],
   "source": [
    "import os\n",
    "# os.getcwd()"
   ]
  },
  {
   "cell_type": "code",
   "execution_count": 15,
   "metadata": {},
   "outputs": [
    {
     "data": {
      "text/html": [
       "<div>\n",
       "<style scoped>\n",
       "    .dataframe tbody tr th:only-of-type {\n",
       "        vertical-align: middle;\n",
       "    }\n",
       "\n",
       "    .dataframe tbody tr th {\n",
       "        vertical-align: top;\n",
       "    }\n",
       "\n",
       "    .dataframe thead th {\n",
       "        text-align: right;\n",
       "    }\n",
       "</style>\n",
       "<table border=\"1\" class=\"dataframe\">\n",
       "  <thead>\n",
       "    <tr style=\"text-align: right;\">\n",
       "      <th></th>\n",
       "      <th>Date</th>\n",
       "      <th>Hashpower</th>\n",
       "      <th>Estimated TWh per Year</th>\n",
       "      <th>Energy efficiency</th>\n",
       "      <th>Estimated TWh per Year min</th>\n",
       "      <th>Energy efficiency min</th>\n",
       "      <th>Difficulty</th>\n",
       "      <th>Market Price</th>\n",
       "    </tr>\n",
       "  </thead>\n",
       "  <tbody>\n",
       "    <tr>\n",
       "      <td>322</td>\n",
       "      <td>2019-10-05</td>\n",
       "      <td>1.002185e+08</td>\n",
       "      <td>73.121461</td>\n",
       "      <td>0.083290</td>\n",
       "      <td>47.370654</td>\n",
       "      <td>0.053958</td>\n",
       "      <td>12759819404408</td>\n",
       "      <td>8137.146689</td>\n",
       "    </tr>\n",
       "    <tr>\n",
       "      <td>323</td>\n",
       "      <td>2019-10-08</td>\n",
       "      <td>1.027556e+08</td>\n",
       "      <td>73.121461</td>\n",
       "      <td>0.081233</td>\n",
       "      <td>46.922462</td>\n",
       "      <td>0.052128</td>\n",
       "      <td>12759819404408</td>\n",
       "      <td>8201.637818</td>\n",
       "    </tr>\n",
       "    <tr>\n",
       "      <td>324</td>\n",
       "      <td>2019-10-11</td>\n",
       "      <td>1.008752e+08</td>\n",
       "      <td>73.121461</td>\n",
       "      <td>0.082748</td>\n",
       "      <td>50.708252</td>\n",
       "      <td>0.057384</td>\n",
       "      <td>13008091666971</td>\n",
       "      <td>8320.171581</td>\n",
       "    </tr>\n",
       "    <tr>\n",
       "      <td>325</td>\n",
       "      <td>2019-10-14</td>\n",
       "      <td>8.729583e+07</td>\n",
       "      <td>73.121461</td>\n",
       "      <td>0.095620</td>\n",
       "      <td>52.101473</td>\n",
       "      <td>0.068132</td>\n",
       "      <td>13008091666971</td>\n",
       "      <td>8337.818999</td>\n",
       "    </tr>\n",
       "    <tr>\n",
       "      <td>326</td>\n",
       "      <td>2019-10-17</td>\n",
       "      <td>9.699536e+07</td>\n",
       "      <td>73.121461</td>\n",
       "      <td>0.086058</td>\n",
       "      <td>50.856345</td>\n",
       "      <td>0.059854</td>\n",
       "      <td>13008091666971</td>\n",
       "      <td>8058.058081</td>\n",
       "    </tr>\n",
       "  </tbody>\n",
       "</table>\n",
       "</div>"
      ],
      "text/plain": [
       "           Date     Hashpower  Estimated TWh per Year  Energy efficiency  \\\n",
       "322  2019-10-05  1.002185e+08               73.121461           0.083290   \n",
       "323  2019-10-08  1.027556e+08               73.121461           0.081233   \n",
       "324  2019-10-11  1.008752e+08               73.121461           0.082748   \n",
       "325  2019-10-14  8.729583e+07               73.121461           0.095620   \n",
       "326  2019-10-17  9.699536e+07               73.121461           0.086058   \n",
       "\n",
       "     Estimated TWh per Year min  Energy efficiency min      Difficulty  \\\n",
       "322                   47.370654               0.053958  12759819404408   \n",
       "323                   46.922462               0.052128  12759819404408   \n",
       "324                   50.708252               0.057384  13008091666971   \n",
       "325                   52.101473               0.068132  13008091666971   \n",
       "326                   50.856345               0.059854  13008091666971   \n",
       "\n",
       "     Market Price  \n",
       "322   8137.146689  \n",
       "323   8201.637818  \n",
       "324   8320.171581  \n",
       "325   8337.818999  \n",
       "326   8058.058081  "
      ]
     },
     "execution_count": 15,
     "metadata": {},
     "output_type": "execute_result"
    }
   ],
   "source": [
    "bc = pd.read_csv('/Users/lemontreeran/VENVPythonProj/cyptomodeling/BTC-DATAMODEL.csv')\n",
    "bc.tail()"
   ]
  },
  {
   "cell_type": "markdown",
   "metadata": {},
   "source": [
    "### 2.2 Converting Dates into a Datetime Format"
   ]
  },
  {
   "cell_type": "code",
   "execution_count": 16,
   "metadata": {},
   "outputs": [
    {
     "data": {
      "text/plain": [
       "Date                          datetime64[ns]\n",
       "Hashpower                            float64\n",
       "Estimated TWh per Year               float64\n",
       "Energy efficiency                    float64\n",
       "Estimated TWh per Year min           float64\n",
       "Energy efficiency min                float64\n",
       "Difficulty                             int64\n",
       "Market Price                         float64\n",
       "dtype: object"
      ]
     },
     "execution_count": 16,
     "metadata": {},
     "output_type": "execute_result"
    }
   ],
   "source": [
    "bc['Date'] = pd.to_datetime(bc.Date)\n",
    "bc.dtypes"
   ]
  },
  {
   "cell_type": "markdown",
   "metadata": {},
   "source": [
    "### 2.3 Setup the constant variable: \n",
    "##### A. hrs_day(number of hours in a day)\n",
    "##### B. electricity_cost(13.5 cents per kWh)\n",
    "##### C. sec_hr(number of seconds in an hour)\n",
    "##### D. block_reward(12.5 since the data range after 11/02/2017)"
   ]
  },
  {
   "cell_type": "code",
   "execution_count": 17,
   "metadata": {},
   "outputs": [],
   "source": [
    "hrs_day = 24\n",
    "sec_hr = 3600\n",
    "electricity_cost = 0.135\n",
    "block_reward = 12.5"
   ]
  },
  {
   "cell_type": "markdown",
   "metadata": {},
   "source": [
    "### 2.4 Calculate model price"
   ]
  },
  {
   "cell_type": "code",
   "execution_count": 18,
   "metadata": {},
   "outputs": [],
   "source": [
    "bc['model price'] = bc.apply(lambda x: ((x['Hashpower'] / 1000) * (electricity_cost * x['Energy efficiency'] * hrs_day)) / (((block_reward * x['Hashpower'] * sec_hr) / (x['Difficulty'] / 10**9 * 2**32)) * hrs_day), axis=1)\n",
    "# bc['model price'] = bc.apply(lambda x: ((x['Hashpower'] / 1000) * (electricity_cost * x['Energy efficiency min'] * hrs_day)) / (((block_reward * x['Hashpower'] * sec_hr) / (x['Difficulty'] / 10**9 * 2**32)) * hrs_day), axis=1)"
   ]
  },
  {
   "cell_type": "code",
   "execution_count": 19,
   "metadata": {},
   "outputs": [
    {
     "data": {
      "text/html": [
       "<div>\n",
       "<style scoped>\n",
       "    .dataframe tbody tr th:only-of-type {\n",
       "        vertical-align: middle;\n",
       "    }\n",
       "\n",
       "    .dataframe tbody tr th {\n",
       "        vertical-align: top;\n",
       "    }\n",
       "\n",
       "    .dataframe thead th {\n",
       "        text-align: right;\n",
       "    }\n",
       "</style>\n",
       "<table border=\"1\" class=\"dataframe\">\n",
       "  <thead>\n",
       "    <tr style=\"text-align: right;\">\n",
       "      <th></th>\n",
       "      <th>Date</th>\n",
       "      <th>Hashpower</th>\n",
       "      <th>Estimated TWh per Year</th>\n",
       "      <th>Energy efficiency</th>\n",
       "      <th>Estimated TWh per Year min</th>\n",
       "      <th>Energy efficiency min</th>\n",
       "      <th>Difficulty</th>\n",
       "      <th>Market Price</th>\n",
       "      <th>model price</th>\n",
       "    </tr>\n",
       "  </thead>\n",
       "  <tbody>\n",
       "    <tr>\n",
       "      <td>0</td>\n",
       "      <td>2017-02-11</td>\n",
       "      <td>2917083.567</td>\n",
       "      <td>9.547335</td>\n",
       "      <td>0.373619</td>\n",
       "      <td>0.373619</td>\n",
       "      <td>0.129775</td>\n",
       "      <td>422170566883</td>\n",
       "      <td>997.22750</td>\n",
       "      <td>2032.348910</td>\n",
       "    </tr>\n",
       "    <tr>\n",
       "      <td>1</td>\n",
       "      <td>2017-02-14</td>\n",
       "      <td>3546669.948</td>\n",
       "      <td>9.544807</td>\n",
       "      <td>0.307215</td>\n",
       "      <td>3.150062</td>\n",
       "      <td>0.101390</td>\n",
       "      <td>422170566883</td>\n",
       "      <td>994.58000</td>\n",
       "      <td>1671.134293</td>\n",
       "    </tr>\n",
       "    <tr>\n",
       "      <td>2</td>\n",
       "      <td>2017-02-17</td>\n",
       "      <td>3168918.119</td>\n",
       "      <td>9.323759</td>\n",
       "      <td>0.335874</td>\n",
       "      <td>3.238448</td>\n",
       "      <td>0.116660</td>\n",
       "      <td>422170566883</td>\n",
       "      <td>1038.86625</td>\n",
       "      <td>1827.026977</td>\n",
       "    </tr>\n",
       "    <tr>\n",
       "      <td>3</td>\n",
       "      <td>2017-02-20</td>\n",
       "      <td>3242870.593</td>\n",
       "      <td>9.290790</td>\n",
       "      <td>0.327054</td>\n",
       "      <td>3.270461</td>\n",
       "      <td>0.115126</td>\n",
       "      <td>440779902286</td>\n",
       "      <td>1046.66249</td>\n",
       "      <td>1857.470083</td>\n",
       "    </tr>\n",
       "    <tr>\n",
       "      <td>4</td>\n",
       "      <td>2017-02-23</td>\n",
       "      <td>3286693.168</td>\n",
       "      <td>9.507110</td>\n",
       "      <td>0.330206</td>\n",
       "      <td>3.119119</td>\n",
       "      <td>0.108335</td>\n",
       "      <td>440779902286</td>\n",
       "      <td>1122.51500</td>\n",
       "      <td>1875.375210</td>\n",
       "    </tr>\n",
       "  </tbody>\n",
       "</table>\n",
       "</div>"
      ],
      "text/plain": [
       "        Date    Hashpower  Estimated TWh per Year  Energy efficiency  \\\n",
       "0 2017-02-11  2917083.567                9.547335           0.373619   \n",
       "1 2017-02-14  3546669.948                9.544807           0.307215   \n",
       "2 2017-02-17  3168918.119                9.323759           0.335874   \n",
       "3 2017-02-20  3242870.593                9.290790           0.327054   \n",
       "4 2017-02-23  3286693.168                9.507110           0.330206   \n",
       "\n",
       "   Estimated TWh per Year min  Energy efficiency min    Difficulty  \\\n",
       "0                    0.373619               0.129775  422170566883   \n",
       "1                    3.150062               0.101390  422170566883   \n",
       "2                    3.238448               0.116660  422170566883   \n",
       "3                    3.270461               0.115126  440779902286   \n",
       "4                    3.119119               0.108335  440779902286   \n",
       "\n",
       "   Market Price  model price  \n",
       "0     997.22750  2032.348910  \n",
       "1     994.58000  1671.134293  \n",
       "2    1038.86625  1827.026977  \n",
       "3    1046.66249  1857.470083  \n",
       "4    1122.51500  1875.375210  "
      ]
     },
     "execution_count": 19,
     "metadata": {},
     "output_type": "execute_result"
    }
   ],
   "source": [
    "bc.head()"
   ]
  },
  {
   "cell_type": "markdown",
   "metadata": {},
   "source": [
    "### 2.5 Setting dates as the index"
   ]
  },
  {
   "cell_type": "code",
   "execution_count": 20,
   "metadata": {},
   "outputs": [
    {
     "data": {
      "text/plain": [
       "Date\n",
       "2017-02-11     997.227500\n",
       "2017-02-14     994.580000\n",
       "2017-02-17    1038.866250\n",
       "2017-02-20    1046.662490\n",
       "2017-02-23    1122.515000\n",
       "                 ...     \n",
       "2019-10-05    8137.146689\n",
       "2019-10-08    8201.637818\n",
       "2019-10-11    8320.171581\n",
       "2019-10-14    8337.818999\n",
       "2019-10-17    8058.058081\n",
       "Name: Market Price, Length: 327, dtype: float64"
      ]
     },
     "execution_count": 20,
     "metadata": {},
     "output_type": "execute_result"
    }
   ],
   "source": [
    "bc.set_index('Date', inplace=True)\n",
    "bc.index\n",
    "bc['Market Price']"
   ]
  },
  {
   "cell_type": "code",
   "execution_count": 21,
   "metadata": {},
   "outputs": [],
   "source": [
    "bc = bc[['Market Price','model price']]"
   ]
  },
  {
   "cell_type": "code",
   "execution_count": 22,
   "metadata": {},
   "outputs": [
    {
     "data": {
      "text/html": [
       "<div>\n",
       "<style scoped>\n",
       "    .dataframe tbody tr th:only-of-type {\n",
       "        vertical-align: middle;\n",
       "    }\n",
       "\n",
       "    .dataframe tbody tr th {\n",
       "        vertical-align: top;\n",
       "    }\n",
       "\n",
       "    .dataframe thead th {\n",
       "        text-align: right;\n",
       "    }\n",
       "</style>\n",
       "<table border=\"1\" class=\"dataframe\">\n",
       "  <thead>\n",
       "    <tr style=\"text-align: right;\">\n",
       "      <th></th>\n",
       "      <th>Market Price</th>\n",
       "      <th>model price</th>\n",
       "    </tr>\n",
       "    <tr>\n",
       "      <th>Date</th>\n",
       "      <th></th>\n",
       "      <th></th>\n",
       "    </tr>\n",
       "  </thead>\n",
       "  <tbody>\n",
       "    <tr>\n",
       "      <td>2019-10-05</td>\n",
       "      <td>8137.146689</td>\n",
       "      <td>13693.632467</td>\n",
       "    </tr>\n",
       "    <tr>\n",
       "      <td>2019-10-08</td>\n",
       "      <td>8201.637818</td>\n",
       "      <td>13355.518081</td>\n",
       "    </tr>\n",
       "    <tr>\n",
       "      <td>2019-10-11</td>\n",
       "      <td>8320.171581</td>\n",
       "      <td>13869.191844</td>\n",
       "    </tr>\n",
       "    <tr>\n",
       "      <td>2019-10-14</td>\n",
       "      <td>8337.818999</td>\n",
       "      <td>16026.621712</td>\n",
       "    </tr>\n",
       "    <tr>\n",
       "      <td>2019-10-17</td>\n",
       "      <td>8058.058081</td>\n",
       "      <td>14423.959524</td>\n",
       "    </tr>\n",
       "  </tbody>\n",
       "</table>\n",
       "</div>"
      ],
      "text/plain": [
       "            Market Price   model price\n",
       "Date                                  \n",
       "2019-10-05   8137.146689  13693.632467\n",
       "2019-10-08   8201.637818  13355.518081\n",
       "2019-10-11   8320.171581  13869.191844\n",
       "2019-10-14   8337.818999  16026.621712\n",
       "2019-10-17   8058.058081  14423.959524"
      ]
     },
     "execution_count": 22,
     "metadata": {},
     "output_type": "execute_result"
    }
   ],
   "source": [
    "bc.head()\n",
    "bc.tail()"
   ]
  },
  {
   "cell_type": "markdown",
   "metadata": {},
   "source": [
    "### 2.6 Plotting Bitcoin Model Prices"
   ]
  },
  {
   "cell_type": "code",
   "execution_count": 23,
   "metadata": {},
   "outputs": [
    {
     "data": {
      "text/html": [
       "<div>\n",
       "<style scoped>\n",
       "    .dataframe tbody tr th:only-of-type {\n",
       "        vertical-align: middle;\n",
       "    }\n",
       "\n",
       "    .dataframe tbody tr th {\n",
       "        vertical-align: top;\n",
       "    }\n",
       "\n",
       "    .dataframe thead th {\n",
       "        text-align: right;\n",
       "    }\n",
       "</style>\n",
       "<table border=\"1\" class=\"dataframe\">\n",
       "  <thead>\n",
       "    <tr style=\"text-align: right;\">\n",
       "      <th></th>\n",
       "      <th>Market Price</th>\n",
       "      <th>model price</th>\n",
       "    </tr>\n",
       "  </thead>\n",
       "  <tbody>\n",
       "    <tr>\n",
       "      <td>2017-02-11</td>\n",
       "      <td>997.227500</td>\n",
       "      <td>2032.348910</td>\n",
       "    </tr>\n",
       "    <tr>\n",
       "      <td>2017-02-12</td>\n",
       "      <td>981.568246</td>\n",
       "      <td>1798.621180</td>\n",
       "    </tr>\n",
       "    <tr>\n",
       "      <td>2017-02-13</td>\n",
       "      <td>982.598124</td>\n",
       "      <td>1689.389606</td>\n",
       "    </tr>\n",
       "    <tr>\n",
       "      <td>2017-02-14</td>\n",
       "      <td>994.580000</td>\n",
       "      <td>1671.134293</td>\n",
       "    </tr>\n",
       "    <tr>\n",
       "      <td>2017-02-15</td>\n",
       "      <td>1011.776737</td>\n",
       "      <td>1710.335347</td>\n",
       "    </tr>\n",
       "    <tr>\n",
       "      <td>...</td>\n",
       "      <td>...</td>\n",
       "      <td>...</td>\n",
       "    </tr>\n",
       "    <tr>\n",
       "      <td>2019-10-13</td>\n",
       "      <td>8354.003082</td>\n",
       "      <td>15378.415504</td>\n",
       "    </tr>\n",
       "    <tr>\n",
       "      <td>2019-10-14</td>\n",
       "      <td>8337.818999</td>\n",
       "      <td>16026.621712</td>\n",
       "    </tr>\n",
       "    <tr>\n",
       "      <td>2019-10-15</td>\n",
       "      <td>8288.589545</td>\n",
       "      <td>16257.039913</td>\n",
       "    </tr>\n",
       "    <tr>\n",
       "      <td>2019-10-16</td>\n",
       "      <td>8198.080610</td>\n",
       "      <td>15809.531915</td>\n",
       "    </tr>\n",
       "    <tr>\n",
       "      <td>2019-10-17</td>\n",
       "      <td>8058.058081</td>\n",
       "      <td>14423.959524</td>\n",
       "    </tr>\n",
       "  </tbody>\n",
       "</table>\n",
       "<p>979 rows × 2 columns</p>\n",
       "</div>"
      ],
      "text/plain": [
       "            Market Price   model price\n",
       "2017-02-11    997.227500   2032.348910\n",
       "2017-02-12    981.568246   1798.621180\n",
       "2017-02-13    982.598124   1689.389606\n",
       "2017-02-14    994.580000   1671.134293\n",
       "2017-02-15   1011.776737   1710.335347\n",
       "...                  ...           ...\n",
       "2019-10-13   8354.003082  15378.415504\n",
       "2019-10-14   8337.818999  16026.621712\n",
       "2019-10-15   8288.589545  16257.039913\n",
       "2019-10-16   8198.080610  15809.531915\n",
       "2019-10-17   8058.058081  14423.959524\n",
       "\n",
       "[979 rows x 2 columns]"
      ]
     },
     "execution_count": 23,
     "metadata": {},
     "output_type": "execute_result"
    }
   ],
   "source": [
    "bc_reindexed = bc.reindex(pd.date_range(start=bc.index.min(),end=bc.index.max(),freq='1D'))  \n",
    "bc_reindexed.interpolate(method='cubic')"
   ]
  },
  {
   "cell_type": "code",
   "execution_count": 24,
   "metadata": {},
   "outputs": [
    {
     "data": {
      "image/png": "[encoded data removed]",
      "text/plain": [
       "<Figure size 1152x360 with 1 Axes>"
      ]
     },
     "metadata": {
      "needs_background": "light"
     },
     "output_type": "display_data"
    }
   ],
   "source": [
    "bc.plot(figsize=(16,5))\n",
    "\n",
    "plt.xlabel('Date')\n",
    "plt.ylabel('Price in USD')\n",
    "plt.title('Bitcoin Price Model - Marginal Cost of Product')\n",
    "plt.savefig('btcmodelprice.png')\n",
    "plt.show()\n"
   ]
  }
 ],
 "metadata": {
  "kernelspec": {
   "display_name": "Python 3",
   "language": "python",
   "name": "python3"
  },
  "language_info": {
   "codemirror_mode": {
    "name": "ipython",
    "version": 3
   },
   "file_extension": ".py",
   "mimetype": "text/x-python",
   "name": "python",
   "nbconvert_exporter": "python",
   "pygments_lexer": "ipython3",
   "version": "3.7.2"
  }
 },
 "nbformat": 4,
 "nbformat_minor": 4
}
