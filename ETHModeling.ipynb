{
 "cells": [
  {
   "cell_type": "markdown",
   "metadata": {},
   "source": [
    "## 3. ETH Modeling"
   ]
  },
  {
   "cell_type": "markdown",
   "metadata": {},
   "source": [
    "- Ethereum Energy Consumption Index\n",
    "  https://digiconomist.net/ethereum-energy-consumption\n",
    "- Ethereum hashrate \n",
    "  https://etherscan.io/chart/hashrate\n",
    "- Ethereum difficulty\n",
    "  https://etherscan.io/chart/difficulty\n",
    "- Ethereum Marcket Price\n",
    "  https://www.coindesk.com/price/ethereum"
   ]
  },
  {
   "cell_type": "markdown",
   "metadata": {},
   "source": [
    "### Importing Necessary Libraries"
   ]
  },
  {
   "cell_type": "code",
   "execution_count": 197,
   "metadata": {},
   "outputs": [],
   "source": [
    "import pandas as pd\n",
    "import matplotlib.pyplot as plt\n",
    "# import numpy as np\n",
    "# from scipy.interpolate import  interp1d"
   ]
  },
  {
   "cell_type": "code",
   "execution_count": 198,
   "metadata": {},
   "outputs": [],
   "source": [
    "import os\n",
    "# os.getcwd()"
   ]
  },
  {
   "cell_type": "code",
   "execution_count": 199,
   "metadata": {},
   "outputs": [
    {
     "data": {
      "text/html": [
       "<div>\n",
       "<style scoped>\n",
       "    .dataframe tbody tr th:only-of-type {\n",
       "        vertical-align: middle;\n",
       "    }\n",
       "\n",
       "    .dataframe tbody tr th {\n",
       "        vertical-align: top;\n",
       "    }\n",
       "\n",
       "    .dataframe thead th {\n",
       "        text-align: right;\n",
       "    }\n",
       "</style>\n",
       "<table border=\"1\" class=\"dataframe\">\n",
       "  <thead>\n",
       "    <tr style=\"text-align: right;\">\n",
       "      <th></th>\n",
       "      <th>Date</th>\n",
       "      <th>Hashpower</th>\n",
       "      <th>Estimated TWh per Year</th>\n",
       "      <th>Energy efficiency</th>\n",
       "      <th>Difficulty</th>\n",
       "      <th>Market Price</th>\n",
       "      <th>Block Reward</th>\n",
       "    </tr>\n",
       "  </thead>\n",
       "  <tbody>\n",
       "    <tr>\n",
       "      <td>862</td>\n",
       "      <td>2019-10-13</td>\n",
       "      <td>192904.6556</td>\n",
       "      <td>7.851164</td>\n",
       "      <td>4646.085902</td>\n",
       "      <td>2461.158</td>\n",
       "      <td>181.536666</td>\n",
       "      <td>2</td>\n",
       "    </tr>\n",
       "    <tr>\n",
       "      <td>863</td>\n",
       "      <td>2019-10-14</td>\n",
       "      <td>188728.8483</td>\n",
       "      <td>7.877451</td>\n",
       "      <td>4764.785098</td>\n",
       "      <td>2411.799</td>\n",
       "      <td>186.123827</td>\n",
       "      <td>2</td>\n",
       "    </tr>\n",
       "    <tr>\n",
       "      <td>864</td>\n",
       "      <td>2019-10-16</td>\n",
       "      <td>193962.3520</td>\n",
       "      <td>7.915849</td>\n",
       "      <td>4658.820238</td>\n",
       "      <td>2492.318</td>\n",
       "      <td>174.754083</td>\n",
       "      <td>2</td>\n",
       "    </tr>\n",
       "    <tr>\n",
       "      <td>865</td>\n",
       "      <td>2019-10-17</td>\n",
       "      <td>193195.3343</td>\n",
       "      <td>7.926375</td>\n",
       "      <td>4683.536308</td>\n",
       "      <td>2486.530</td>\n",
       "      <td>176.390105</td>\n",
       "      <td>2</td>\n",
       "    </tr>\n",
       "    <tr>\n",
       "      <td>866</td>\n",
       "      <td>2019-10-18</td>\n",
       "      <td>187021.2994</td>\n",
       "      <td>7.935674</td>\n",
       "      <td>4843.826922</td>\n",
       "      <td>2407.067</td>\n",
       "      <td>173.750089</td>\n",
       "      <td>2</td>\n",
       "    </tr>\n",
       "  </tbody>\n",
       "</table>\n",
       "</div>"
      ],
      "text/plain": [
       "           Date    Hashpower  Estimated TWh per Year  Energy efficiency  \\\n",
       "862  2019-10-13  192904.6556                7.851164        4646.085902   \n",
       "863  2019-10-14  188728.8483                7.877451        4764.785098   \n",
       "864  2019-10-16  193962.3520                7.915849        4658.820238   \n",
       "865  2019-10-17  193195.3343                7.926375        4683.536308   \n",
       "866  2019-10-18  187021.2994                7.935674        4843.826922   \n",
       "\n",
       "     Difficulty  Market Price  Block Reward  \n",
       "862    2461.158    181.536666             2  \n",
       "863    2411.799    186.123827             2  \n",
       "864    2492.318    174.754083             2  \n",
       "865    2486.530    176.390105             2  \n",
       "866    2407.067    173.750089             2  "
      ]
     },
     "execution_count": 199,
     "metadata": {},
     "output_type": "execute_result"
    }
   ],
   "source": [
    "bc = pd.read_csv('/Users/lemontreeran/VENVPythonProj/cyptomodeling/ETH-DATAMODEL.csv')\n",
    "bc.tail()"
   ]
  },
  {
   "cell_type": "markdown",
   "metadata": {},
   "source": [
    "### Converting Dates into a Datetime Format"
   ]
  },
  {
   "cell_type": "code",
   "execution_count": 200,
   "metadata": {},
   "outputs": [
    {
     "data": {
      "text/plain": [
       "Date                      datetime64[ns]\n",
       "Hashpower                        float64\n",
       "Estimated TWh per Year           float64\n",
       "Energy efficiency                float64\n",
       "Difficulty                       float64\n",
       "Market Price                     float64\n",
       "Block Reward                       int64\n",
       "dtype: object"
      ]
     },
     "execution_count": 200,
     "metadata": {},
     "output_type": "execute_result"
    }
   ],
   "source": [
    "bc['Date'] = pd.to_datetime(bc.Date)\n",
    "bc.dtypes"
   ]
  },
  {
   "cell_type": "markdown",
   "metadata": {},
   "source": [
    "### Setup the constant variable: \n",
    "#### 1. hrs_day(number of hours in a day)\n",
    "#### 2. electricity_cost(13.5 cents per kWh)\n",
    "#### 3. sec_hr(number of seconds in an hour)\n",
    "#### 3. block_reward(2 since the data range after 17/01/2019)"
   ]
  },
  {
   "cell_type": "code",
   "execution_count": 201,
   "metadata": {},
   "outputs": [],
   "source": [
    "hrs_day = 24\n",
    "sec_hr = 3600\n",
    "electricity_cost = 0.135"
   ]
  },
  {
   "cell_type": "markdown",
   "metadata": {},
   "source": [
    "### Calculate model price"
   ]
  },
  {
   "cell_type": "code",
   "execution_count": 202,
   "metadata": {},
   "outputs": [],
   "source": [
    "bc['model price'] = bc.apply(lambda x: ((x['Hashpower'] / 1000) * (electricity_cost * x['Energy efficiency'] * hrs_day)) / (((x['Block Reward'] * x['Hashpower'] * sec_hr) / (x['Difficulty'] * 1000 / 10**9 * 2**32)) * hrs_day), axis=1)"
   ]
  },
  {
   "cell_type": "code",
   "execution_count": 203,
   "metadata": {},
   "outputs": [],
   "source": [
    "bc['ratio'] = bc.apply(lambda x: (x['model price'] / x['Market Price']), axis=1)\n",
    "bc['baseline'] = bc.apply(lambda x: 1, axis=1)"
   ]
  },
  {
   "cell_type": "code",
   "execution_count": 204,
   "metadata": {},
   "outputs": [
    {
     "data": {
      "text/html": [
       "<div>\n",
       "<style scoped>\n",
       "    .dataframe tbody tr th:only-of-type {\n",
       "        vertical-align: middle;\n",
       "    }\n",
       "\n",
       "    .dataframe tbody tr th {\n",
       "        vertical-align: top;\n",
       "    }\n",
       "\n",
       "    .dataframe thead th {\n",
       "        text-align: right;\n",
       "    }\n",
       "</style>\n",
       "<table border=\"1\" class=\"dataframe\">\n",
       "  <thead>\n",
       "    <tr style=\"text-align: right;\">\n",
       "      <th></th>\n",
       "      <th>Date</th>\n",
       "      <th>Hashpower</th>\n",
       "      <th>Estimated TWh per Year</th>\n",
       "      <th>Energy efficiency</th>\n",
       "      <th>Difficulty</th>\n",
       "      <th>Market Price</th>\n",
       "      <th>Block Reward</th>\n",
       "      <th>model price</th>\n",
       "      <th>ratio</th>\n",
       "      <th>baseline</th>\n",
       "    </tr>\n",
       "  </thead>\n",
       "  <tbody>\n",
       "    <tr>\n",
       "      <td>0</td>\n",
       "      <td>2017-05-20</td>\n",
       "      <td>29609.4667</td>\n",
       "      <td>2.338304</td>\n",
       "      <td>9015.010168</td>\n",
       "      <td>439.714</td>\n",
       "      <td>127.267172</td>\n",
       "      <td>3</td>\n",
       "      <td>212.817035</td>\n",
       "      <td>1.672207</td>\n",
       "      <td>1</td>\n",
       "    </tr>\n",
       "    <tr>\n",
       "      <td>1</td>\n",
       "      <td>2017-05-21</td>\n",
       "      <td>30501.1451</td>\n",
       "      <td>2.331936</td>\n",
       "      <td>8727.630565</td>\n",
       "      <td>451.327</td>\n",
       "      <td>124.900392</td>\n",
       "      <td>3</td>\n",
       "      <td>211.474275</td>\n",
       "      <td>1.693143</td>\n",
       "      <td>1</td>\n",
       "    </tr>\n",
       "    <tr>\n",
       "      <td>2</td>\n",
       "      <td>2017-05-22</td>\n",
       "      <td>31382.7051</td>\n",
       "      <td>2.406776</td>\n",
       "      <td>8754.700125</td>\n",
       "      <td>463.103</td>\n",
       "      <td>148.333874</td>\n",
       "      <td>3</td>\n",
       "      <td>217.665071</td>\n",
       "      <td>1.467400</td>\n",
       "      <td>1</td>\n",
       "    </tr>\n",
       "    <tr>\n",
       "      <td>3</td>\n",
       "      <td>2017-05-23</td>\n",
       "      <td>30236.4543</td>\n",
       "      <td>2.479116</td>\n",
       "      <td>9359.698770</td>\n",
       "      <td>448.717</td>\n",
       "      <td>159.999428</td>\n",
       "      <td>3</td>\n",
       "      <td>225.478050</td>\n",
       "      <td>1.409243</td>\n",
       "      <td>1</td>\n",
       "    </tr>\n",
       "    <tr>\n",
       "      <td>4</td>\n",
       "      <td>2017-05-24</td>\n",
       "      <td>30975.7050</td>\n",
       "      <td>2.558065</td>\n",
       "      <td>9427.277883</td>\n",
       "      <td>458.978</td>\n",
       "      <td>175.471684</td>\n",
       "      <td>3</td>\n",
       "      <td>232.299381</td>\n",
       "      <td>1.323857</td>\n",
       "      <td>1</td>\n",
       "    </tr>\n",
       "  </tbody>\n",
       "</table>\n",
       "</div>"
      ],
      "text/plain": [
       "        Date   Hashpower  Estimated TWh per Year  Energy efficiency  \\\n",
       "0 2017-05-20  29609.4667                2.338304        9015.010168   \n",
       "1 2017-05-21  30501.1451                2.331936        8727.630565   \n",
       "2 2017-05-22  31382.7051                2.406776        8754.700125   \n",
       "3 2017-05-23  30236.4543                2.479116        9359.698770   \n",
       "4 2017-05-24  30975.7050                2.558065        9427.277883   \n",
       "\n",
       "   Difficulty  Market Price  Block Reward  model price     ratio  baseline  \n",
       "0     439.714    127.267172             3   212.817035  1.672207         1  \n",
       "1     451.327    124.900392             3   211.474275  1.693143         1  \n",
       "2     463.103    148.333874             3   217.665071  1.467400         1  \n",
       "3     448.717    159.999428             3   225.478050  1.409243         1  \n",
       "4     458.978    175.471684             3   232.299381  1.323857         1  "
      ]
     },
     "execution_count": 204,
     "metadata": {},
     "output_type": "execute_result"
    }
   ],
   "source": [
    "bc.head()"
   ]
  },
  {
   "cell_type": "markdown",
   "metadata": {},
   "source": [
    "### Setting dates as the index"
   ]
  },
  {
   "cell_type": "code",
   "execution_count": 205,
   "metadata": {},
   "outputs": [
    {
     "data": {
      "text/plain": [
       "Date\n",
       "2017-05-20    127.267172\n",
       "2017-05-21    124.900392\n",
       "2017-05-22    148.333874\n",
       "2017-05-23    159.999428\n",
       "2017-05-24    175.471684\n",
       "                 ...    \n",
       "2019-10-13    181.536666\n",
       "2019-10-14    186.123827\n",
       "2019-10-16    174.754083\n",
       "2019-10-17    176.390105\n",
       "2019-10-18    173.750089\n",
       "Name: Market Price, Length: 867, dtype: float64"
      ]
     },
     "execution_count": 205,
     "metadata": {},
     "output_type": "execute_result"
    }
   ],
   "source": [
    "bc.set_index('Date', inplace=True)\n",
    "bc.index\n",
    "bc['Market Price']"
   ]
  },
  {
   "cell_type": "code",
   "execution_count": 206,
   "metadata": {},
   "outputs": [],
   "source": [
    "model_bc = bc[['Market Price','model price']]"
   ]
  },
  {
   "cell_type": "code",
   "execution_count": 207,
   "metadata": {},
   "outputs": [
    {
     "data": {
      "text/html": [
       "<div>\n",
       "<style scoped>\n",
       "    .dataframe tbody tr th:only-of-type {\n",
       "        vertical-align: middle;\n",
       "    }\n",
       "\n",
       "    .dataframe tbody tr th {\n",
       "        vertical-align: top;\n",
       "    }\n",
       "\n",
       "    .dataframe thead th {\n",
       "        text-align: right;\n",
       "    }\n",
       "</style>\n",
       "<table border=\"1\" class=\"dataframe\">\n",
       "  <thead>\n",
       "    <tr style=\"text-align: right;\">\n",
       "      <th></th>\n",
       "      <th>Market Price</th>\n",
       "      <th>model price</th>\n",
       "    </tr>\n",
       "    <tr>\n",
       "      <th>Date</th>\n",
       "      <th></th>\n",
       "      <th></th>\n",
       "    </tr>\n",
       "  </thead>\n",
       "  <tbody>\n",
       "    <tr>\n",
       "      <td>2019-10-13</td>\n",
       "      <td>181.536666</td>\n",
       "      <td>920.847819</td>\n",
       "    </tr>\n",
       "    <tr>\n",
       "      <td>2019-10-14</td>\n",
       "      <td>186.123827</td>\n",
       "      <td>925.434236</td>\n",
       "    </tr>\n",
       "    <tr>\n",
       "      <td>2019-10-16</td>\n",
       "      <td>174.754083</td>\n",
       "      <td>935.062286</td>\n",
       "    </tr>\n",
       "    <tr>\n",
       "      <td>2019-10-17</td>\n",
       "      <td>176.390105</td>\n",
       "      <td>937.839948</td>\n",
       "    </tr>\n",
       "    <tr>\n",
       "      <td>2019-10-18</td>\n",
       "      <td>173.750089</td>\n",
       "      <td>938.940190</td>\n",
       "    </tr>\n",
       "  </tbody>\n",
       "</table>\n",
       "</div>"
      ],
      "text/plain": [
       "            Market Price  model price\n",
       "Date                                 \n",
       "2019-10-13    181.536666   920.847819\n",
       "2019-10-14    186.123827   925.434236\n",
       "2019-10-16    174.754083   935.062286\n",
       "2019-10-17    176.390105   937.839948\n",
       "2019-10-18    173.750089   938.940190"
      ]
     },
     "execution_count": 207,
     "metadata": {},
     "output_type": "execute_result"
    }
   ],
   "source": [
    "model_bc.head()\n",
    "model_bc.tail()"
   ]
  },
  {
   "cell_type": "markdown",
   "metadata": {},
   "source": [
    "### Plotting Bitcoin Model Prices"
   ]
  },
  {
   "cell_type": "code",
   "execution_count": 208,
   "metadata": {},
   "outputs": [
    {
     "data": {
      "text/html": [
       "<div>\n",
       "<style scoped>\n",
       "    .dataframe tbody tr th:only-of-type {\n",
       "        vertical-align: middle;\n",
       "    }\n",
       "\n",
       "    .dataframe tbody tr th {\n",
       "        vertical-align: top;\n",
       "    }\n",
       "\n",
       "    .dataframe thead th {\n",
       "        text-align: right;\n",
       "    }\n",
       "</style>\n",
       "<table border=\"1\" class=\"dataframe\">\n",
       "  <thead>\n",
       "    <tr style=\"text-align: right;\">\n",
       "      <th></th>\n",
       "      <th>Market Price</th>\n",
       "      <th>model price</th>\n",
       "    </tr>\n",
       "  </thead>\n",
       "  <tbody>\n",
       "    <tr>\n",
       "      <td>2017-05-20</td>\n",
       "      <td>127.267172</td>\n",
       "      <td>212.817035</td>\n",
       "    </tr>\n",
       "    <tr>\n",
       "      <td>2017-05-21</td>\n",
       "      <td>124.900392</td>\n",
       "      <td>211.474275</td>\n",
       "    </tr>\n",
       "    <tr>\n",
       "      <td>2017-05-22</td>\n",
       "      <td>148.333874</td>\n",
       "      <td>217.665071</td>\n",
       "    </tr>\n",
       "    <tr>\n",
       "      <td>2017-05-23</td>\n",
       "      <td>159.999428</td>\n",
       "      <td>225.478050</td>\n",
       "    </tr>\n",
       "    <tr>\n",
       "      <td>2017-05-24</td>\n",
       "      <td>175.471684</td>\n",
       "      <td>232.299381</td>\n",
       "    </tr>\n",
       "    <tr>\n",
       "      <td>...</td>\n",
       "      <td>...</td>\n",
       "      <td>...</td>\n",
       "    </tr>\n",
       "    <tr>\n",
       "      <td>2019-10-14</td>\n",
       "      <td>186.123827</td>\n",
       "      <td>925.434236</td>\n",
       "    </tr>\n",
       "    <tr>\n",
       "      <td>2019-10-15</td>\n",
       "      <td>181.223854</td>\n",
       "      <td>931.392700</td>\n",
       "    </tr>\n",
       "    <tr>\n",
       "      <td>2019-10-16</td>\n",
       "      <td>174.754083</td>\n",
       "      <td>935.062286</td>\n",
       "    </tr>\n",
       "    <tr>\n",
       "      <td>2019-10-17</td>\n",
       "      <td>176.390105</td>\n",
       "      <td>937.839948</td>\n",
       "    </tr>\n",
       "    <tr>\n",
       "      <td>2019-10-18</td>\n",
       "      <td>173.750089</td>\n",
       "      <td>938.940190</td>\n",
       "    </tr>\n",
       "  </tbody>\n",
       "</table>\n",
       "<p>882 rows × 2 columns</p>\n",
       "</div>"
      ],
      "text/plain": [
       "            Market Price  model price\n",
       "2017-05-20    127.267172   212.817035\n",
       "2017-05-21    124.900392   211.474275\n",
       "2017-05-22    148.333874   217.665071\n",
       "2017-05-23    159.999428   225.478050\n",
       "2017-05-24    175.471684   232.299381\n",
       "...                  ...          ...\n",
       "2019-10-14    186.123827   925.434236\n",
       "2019-10-15    181.223854   931.392700\n",
       "2019-10-16    174.754083   935.062286\n",
       "2019-10-17    176.390105   937.839948\n",
       "2019-10-18    173.750089   938.940190\n",
       "\n",
       "[882 rows x 2 columns]"
      ]
     },
     "execution_count": 208,
     "metadata": {},
     "output_type": "execute_result"
    }
   ],
   "source": [
    "bc_reindexed = model_bc.reindex(pd.date_range(start=model_bc.index.min(),end=model_bc.index.max(),freq='1D'))  \n",
    "bc_reindexed.interpolate(method='cubic')"
   ]
  },
  {
   "cell_type": "code",
   "execution_count": 209,
   "metadata": {},
   "outputs": [
    {
     "data": {
      "image/png": "[encoded data removed]",
      "text/plain": [
       "<Figure size 1152x360 with 1 Axes>"
      ]
     },
     "metadata": {
      "needs_background": "light"
     },
     "output_type": "display_data"
    }
   ],
   "source": [
    "model_bc.plot(figsize=(16,5))\n",
    "\n",
    "plt.xlabel('Date')\n",
    "plt.ylabel('Price in USD')\n",
    "plt.title('Ethereum Price Model - Marginal Cost of Product')\n",
    "plt.savefig('ethmodelprice.png')\n",
    "plt.show()\n"
   ]
  },
  {
   "cell_type": "code",
   "execution_count": 211,
   "metadata": {},
   "outputs": [
    {
     "data": {
      "image/png": "[encoded data removed]",
      "text/plain": [
       "<Figure size 1152x360 with 1 Axes>"
      ]
     },
     "metadata": {
      "needs_background": "light"
     },
     "output_type": "display_data"
    }
   ],
   "source": [
    "ratio_bc = bc[['ratio', 'baseline']]\n",
    "\n",
    "ratio_bc.plot(figsize=(16,5))\n",
    "\n",
    "plt.xlabel('Date')\n",
    "plt.ylabel('ratio')\n",
    "plt.title('Ratio Ether Price Model - Marginal Cost of Product')\n",
    "plt.savefig('ethmodelpriceratio.png')\n",
    "plt.show()"
   ]
  },
  {
   "cell_type": "code",
   "execution_count": null,
   "metadata": {},
   "outputs": [],
   "source": []
  }
 ],
 "metadata": {
  "kernelspec": {
   "display_name": "Python 3",
   "language": "python",
   "name": "python3"
  },
  "language_info": {
   "codemirror_mode": {
    "name": "ipython",
    "version": 3
   },
   "file_extension": ".py",
   "mimetype": "text/x-python",
   "name": "python",
   "nbconvert_exporter": "python",
   "pygments_lexer": "ipython3",
   "version": "3.7.2"
  }
 },
 "nbformat": 4,
 "nbformat_minor": 4
}
